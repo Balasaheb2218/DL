{
  "nbformat": 4,
  "nbformat_minor": 0,
  "metadata": {
    "colab": {
      "provenance": []
    },
    "kernelspec": {
      "name": "python3",
      "display_name": "Python 3"
    },
    "language_info": {
      "name": "python"
    }
  },
  "cells": [
    {
      "cell_type": "code",
      "execution_count": 77,
      "metadata": {
        "id": "lhd8Eik85ktb"
      },
      "outputs": [],
      "source": [
        "import re\n",
        "import numpy as np\n",
        "import matplotlib.pyplot as plt"
      ]
    },
    {
      "cell_type": "code",
      "source": [
        "sentences = \"\"\"We are about to study the idea of a computational process.\n",
        "Computational processes are abstract beings that inhabit computers.\n",
        "As they evolve, processes manipulate other abstract things called data.\n",
        "The evolution of a process is directed by a pattern of rules\n",
        "called a program. People create programs to direct processes. In effect,\n",
        "we conjure the spirits of the computer with our spells.\"\"\""
      ],
      "metadata": {
        "id": "xOBjeyJhIsds"
      },
      "execution_count": 78,
      "outputs": []
    },
    {
      "cell_type": "code",
      "source": [
        "sentences = re.sub('[^A-Za-z0-9]+', ' ', sentences)# remove special characters\n",
        "sentences = re.sub(r'(?:^| )\\w(?:$| )', ' ', sentences).strip()# remove 1 letter words\n",
        "sentences = sentences.lower()# remove 1 letter words"
      ],
      "metadata": {
        "id": "P43zcx9qIzaZ"
      },
      "execution_count": 79,
      "outputs": []
    },
    {
      "cell_type": "code",
      "source": [
        "sentences"
      ],
      "metadata": {
        "colab": {
          "base_uri": "https://localhost:8080/",
          "height": 72
        },
        "id": "fdaYjV2gJ6US",
        "outputId": "4b06e3a9-8705-44bb-a7b4-9375bc0dde15"
      },
      "execution_count": 80,
      "outputs": [
        {
          "output_type": "execute_result",
          "data": {
            "text/plain": [
              "'we are about to study the idea of computational process computational processes are abstract beings that inhabit computers as they evolve processes manipulate other abstract things called data the evolution of process is directed by pattern of rules called program people create programs to direct processes in effect we conjure the spirits of the computer with our spells'"
            ],
            "application/vnd.google.colaboratory.intrinsic+json": {
              "type": "string"
            }
          },
          "metadata": {},
          "execution_count": 80
        }
      ]
    },
    {
      "cell_type": "code",
      "source": [
        "words = sentences.split()\n",
        "vocab = set(words)"
      ],
      "metadata": {
        "id": "RKtywHzxKMrV"
      },
      "execution_count": 106,
      "outputs": []
    },
    {
      "cell_type": "code",
      "source": [
        "words"
      ],
      "metadata": {
        "colab": {
          "base_uri": "https://localhost:8080/"
        },
        "id": "TCKEsolvM-Uo",
        "outputId": "36d34873-0e95-49d7-d6fe-60c517911228"
      },
      "execution_count": 107,
      "outputs": [
        {
          "output_type": "execute_result",
          "data": {
            "text/plain": [
              "['we',\n",
              " 'are',\n",
              " 'about',\n",
              " 'to',\n",
              " 'study',\n",
              " 'the',\n",
              " 'idea',\n",
              " 'of',\n",
              " 'computational',\n",
              " 'process',\n",
              " 'computational',\n",
              " 'processes',\n",
              " 'are',\n",
              " 'abstract',\n",
              " 'beings',\n",
              " 'that',\n",
              " 'inhabit',\n",
              " 'computers',\n",
              " 'as',\n",
              " 'they',\n",
              " 'evolve',\n",
              " 'processes',\n",
              " 'manipulate',\n",
              " 'other',\n",
              " 'abstract',\n",
              " 'things',\n",
              " 'called',\n",
              " 'data',\n",
              " 'the',\n",
              " 'evolution',\n",
              " 'of',\n",
              " 'process',\n",
              " 'is',\n",
              " 'directed',\n",
              " 'by',\n",
              " 'pattern',\n",
              " 'of',\n",
              " 'rules',\n",
              " 'called',\n",
              " 'program',\n",
              " 'people',\n",
              " 'create',\n",
              " 'programs',\n",
              " 'to',\n",
              " 'direct',\n",
              " 'processes',\n",
              " 'in',\n",
              " 'effect',\n",
              " 'we',\n",
              " 'conjure',\n",
              " 'the',\n",
              " 'spirits',\n",
              " 'of',\n",
              " 'the',\n",
              " 'computer',\n",
              " 'with',\n",
              " 'our',\n",
              " 'spells']"
            ]
          },
          "metadata": {},
          "execution_count": 107
        }
      ]
    },
    {
      "cell_type": "code",
      "source": [
        "vocab"
      ],
      "metadata": {
        "colab": {
          "base_uri": "https://localhost:8080/"
        },
        "id": "Nwb4siVuNBHP",
        "outputId": "0c5cff14-a981-4fec-93e2-f56f5be8b760"
      },
      "execution_count": 108,
      "outputs": [
        {
          "output_type": "execute_result",
          "data": {
            "text/plain": [
              "{'about',\n",
              " 'abstract',\n",
              " 'are',\n",
              " 'as',\n",
              " 'beings',\n",
              " 'by',\n",
              " 'called',\n",
              " 'computational',\n",
              " 'computer',\n",
              " 'computers',\n",
              " 'conjure',\n",
              " 'create',\n",
              " 'data',\n",
              " 'direct',\n",
              " 'directed',\n",
              " 'effect',\n",
              " 'evolution',\n",
              " 'evolve',\n",
              " 'idea',\n",
              " 'in',\n",
              " 'inhabit',\n",
              " 'is',\n",
              " 'manipulate',\n",
              " 'of',\n",
              " 'other',\n",
              " 'our',\n",
              " 'pattern',\n",
              " 'people',\n",
              " 'process',\n",
              " 'processes',\n",
              " 'program',\n",
              " 'programs',\n",
              " 'rules',\n",
              " 'spells',\n",
              " 'spirits',\n",
              " 'study',\n",
              " 'that',\n",
              " 'the',\n",
              " 'they',\n",
              " 'things',\n",
              " 'to',\n",
              " 'we',\n",
              " 'with'}"
            ]
          },
          "metadata": {},
          "execution_count": 108
        }
      ]
    },
    {
      "cell_type": "code",
      "source": [
        "vocab_size = len(vocab)\n",
        "embed_dim = 10\n",
        "context_size = 2"
      ],
      "metadata": {
        "id": "BLAEDfEONROP"
      },
      "execution_count": 109,
      "outputs": []
    },
    {
      "cell_type": "code",
      "source": [
        "vocab_size"
      ],
      "metadata": {
        "colab": {
          "base_uri": "https://localhost:8080/"
        },
        "id": "gQroxRWoP7lS",
        "outputId": "cd46ca26-8299-4d69-f702-133e09abb837"
      },
      "execution_count": 110,
      "outputs": [
        {
          "output_type": "execute_result",
          "data": {
            "text/plain": [
              "43"
            ]
          },
          "metadata": {},
          "execution_count": 110
        }
      ]
    },
    {
      "cell_type": "code",
      "source": [
        "word_to_ix = {word: i for i, word in enumerate(vocab)}\n",
        "ix_to_word = {i: word for i, word in enumerate(vocab)}"
      ],
      "metadata": {
        "id": "2407aEmcP9HS"
      },
      "execution_count": 111,
      "outputs": []
    },
    {
      "cell_type": "code",
      "source": [
        "data = []\n",
        "for i in range(2, len(words) - 2):\n",
        "    context = [words[i - 2], words[i - 1], words[i + 1], words[i + 2]]\n",
        "    target = words[i]\n",
        "    data.append((context, target))\n",
        "print(data[:5])"
      ],
      "metadata": {
        "colab": {
          "base_uri": "https://localhost:8080/"
        },
        "id": "Y-xuWEq7Rgyd",
        "outputId": "94bcbee4-6ac1-495b-d7c4-e1d9bcfb63ea"
      },
      "execution_count": 112,
      "outputs": [
        {
          "output_type": "stream",
          "name": "stdout",
          "text": [
            "[(['we', 'are', 'to', 'study'], 'about'), (['are', 'about', 'study', 'the'], 'to'), (['about', 'to', 'the', 'idea'], 'study'), (['to', 'study', 'idea', 'of'], 'the'), (['study', 'the', 'of', 'computational'], 'idea')]\n"
          ]
        }
      ]
    },
    {
      "cell_type": "code",
      "source": [
        "embeddings =  np.random.random_sample((vocab_size, embed_dim))"
      ],
      "metadata": {
        "id": "-1EVfWK4TFTM"
      },
      "execution_count": 113,
      "outputs": []
    },
    {
      "cell_type": "code",
      "source": [
        "embeddings"
      ],
      "metadata": {
        "colab": {
          "base_uri": "https://localhost:8080/"
        },
        "id": "kvMDdbesT8Qi",
        "outputId": "f7a0ac3a-6f95-4de6-85c0-ff91cd297b75"
      },
      "execution_count": 114,
      "outputs": [
        {
          "output_type": "execute_result",
          "data": {
            "text/plain": [
              "array([[0.06205155, 0.49688468, 0.79741026, 0.68506937, 0.45777852,\n",
              "        0.70127768, 0.88262898, 0.70309958, 0.6259749 , 0.17504936],\n",
              "       [0.13940575, 0.24462548, 0.77852331, 0.3231893 , 0.62906913,\n",
              "        0.84549094, 0.40277984, 0.38148606, 0.32016106, 0.80770175],\n",
              "       [0.85461081, 0.35463221, 0.01112265, 0.68850811, 0.11313403,\n",
              "        0.67216707, 0.52424837, 0.65169668, 0.59674928, 0.06976897],\n",
              "       [0.29863292, 0.58544722, 0.63883507, 0.48119249, 0.73098671,\n",
              "        0.47880766, 0.58826894, 0.42218983, 0.244677  , 0.1899684 ],\n",
              "       [0.42681863, 0.99761295, 0.11152266, 0.72338596, 0.08823939,\n",
              "        0.88815795, 0.0458523 , 0.40937124, 0.56948606, 0.33427282],\n",
              "       [0.94007038, 0.76172317, 0.57037882, 0.16815608, 0.56683513,\n",
              "        0.63661262, 0.28550274, 0.49502925, 0.67733992, 0.03644323],\n",
              "       [0.35737313, 0.6648072 , 0.40207145, 0.93553575, 0.8798665 ,\n",
              "        0.25519896, 0.2498735 , 0.81044154, 0.78400193, 0.72050259],\n",
              "       [0.77669673, 0.57622888, 0.15641591, 0.12165458, 0.34880646,\n",
              "        0.7759086 , 0.20850966, 0.62277052, 0.8384149 , 0.56652675],\n",
              "       [0.67920868, 0.51852389, 0.17650161, 0.607246  , 0.57116322,\n",
              "        0.07564134, 0.7701227 , 0.56626763, 0.56772438, 0.55603804],\n",
              "       [0.88675568, 0.63735348, 0.88505645, 0.1677745 , 0.27420222,\n",
              "        0.08075479, 0.31045251, 0.53835499, 0.07827821, 0.91585025],\n",
              "       [0.48990142, 0.95982174, 0.96334976, 0.02850788, 0.10040298,\n",
              "        0.6210622 , 0.72257397, 0.52134227, 0.89745534, 0.25975902],\n",
              "       [0.45087651, 0.36772885, 0.77958607, 0.89497462, 0.44626821,\n",
              "        0.30523838, 0.80938159, 0.87751226, 0.05519906, 0.35880875],\n",
              "       [0.25688117, 0.12975035, 0.82787857, 0.21780566, 0.81063541,\n",
              "        0.75637325, 0.50379538, 0.78773498, 0.3181577 , 0.67971018],\n",
              "       [0.04026696, 0.49593793, 0.03532583, 0.48133076, 0.18319338,\n",
              "        0.30867882, 0.98897705, 0.54146627, 0.07264737, 0.44833239],\n",
              "       [0.89906774, 0.42223963, 0.91655896, 0.0122201 , 0.69717323,\n",
              "        0.84131578, 0.77785926, 0.91559263, 0.79884657, 0.62431621],\n",
              "       [0.94839215, 0.42272316, 0.33830381, 0.79648034, 0.36460618,\n",
              "        0.74105166, 0.7264439 , 0.12604832, 0.29637152, 0.05270609],\n",
              "       [0.1986025 , 0.01172955, 0.83602331, 0.80480901, 0.34259521,\n",
              "        0.95041474, 0.70492417, 0.93725856, 0.09090746, 0.95470816],\n",
              "       [0.36241097, 0.45954782, 0.66015246, 0.342711  , 0.12749599,\n",
              "        0.12312482, 0.12742212, 0.15381089, 0.97966985, 0.68916511],\n",
              "       [0.78076952, 0.99901885, 0.94376178, 0.27949818, 0.66048771,\n",
              "        0.6543292 , 0.85084241, 0.32386013, 0.39841474, 0.87913482],\n",
              "       [0.88397041, 0.11812   , 0.30303365, 0.17769258, 0.60725716,\n",
              "        0.41794224, 0.624884  , 0.75273956, 0.9482325 , 0.14129561],\n",
              "       [0.5333461 , 0.80798219, 0.10002954, 0.15584407, 0.05222239,\n",
              "        0.449792  , 0.76291058, 0.94909272, 0.89023715, 0.7006726 ],\n",
              "       [0.14368072, 0.71527679, 0.28129168, 0.15573898, 0.00223783,\n",
              "        0.20342518, 0.51901968, 0.4931691 , 0.03351018, 0.26374676],\n",
              "       [0.72728193, 0.88178007, 0.56550574, 0.5463458 , 0.599447  ,\n",
              "        0.11197038, 0.33574916, 0.78159675, 0.43831047, 0.6349498 ],\n",
              "       [0.30432872, 0.39226662, 0.74017422, 0.86677979, 0.73336047,\n",
              "        0.18762274, 0.63571383, 0.42987971, 0.91255637, 0.89244728],\n",
              "       [0.28969812, 0.04643965, 0.50962928, 0.23008022, 0.8474588 ,\n",
              "        0.3540473 , 0.49907381, 0.96543849, 0.58855087, 0.58122547],\n",
              "       [0.57410211, 0.54377234, 0.55120416, 0.37774577, 0.9846181 ,\n",
              "        0.3144409 , 0.2904554 , 0.2257195 , 0.91181428, 0.67469201],\n",
              "       [0.9488105 , 0.92796342, 0.46414766, 0.93281576, 0.01689704,\n",
              "        0.95194034, 0.04677711, 0.84958456, 0.3820738 , 0.82158403],\n",
              "       [0.78841295, 0.22052811, 0.65902287, 0.72543127, 0.60958318,\n",
              "        0.99862133, 0.8775931 , 0.17252258, 0.29080518, 0.75295927],\n",
              "       [0.45520019, 0.33666249, 0.70451937, 0.93719   , 0.40047205,\n",
              "        0.86754824, 0.81009982, 0.34316125, 0.14941202, 0.90509399],\n",
              "       [0.74161429, 0.89820425, 0.37942305, 0.31440229, 0.96421219,\n",
              "        0.37366407, 0.02973859, 0.06560587, 0.4129215 , 0.11230353],\n",
              "       [0.678875  , 0.83043971, 0.77694887, 0.67331055, 0.07453616,\n",
              "        0.81555284, 0.75479058, 0.25672438, 0.40503687, 0.12428435],\n",
              "       [0.71011529, 0.5892639 , 0.40548914, 0.8330766 , 0.79446316,\n",
              "        0.86429773, 0.14883852, 0.12386231, 0.47647074, 0.14974497],\n",
              "       [0.40847239, 0.93809045, 0.52645402, 0.37565149, 0.21440638,\n",
              "        0.86098943, 0.65651419, 0.53353349, 0.61695397, 0.55093148],\n",
              "       [0.39440328, 0.77257241, 0.21883887, 0.8869106 , 0.96722359,\n",
              "        0.90615802, 0.05923415, 0.15474566, 0.12040062, 0.22921263],\n",
              "       [0.28325266, 0.96612959, 0.64203993, 0.23261933, 0.27589384,\n",
              "        0.165765  , 0.31669224, 0.10491307, 0.39284999, 0.57301636],\n",
              "       [0.88949835, 0.2096685 , 0.22143758, 0.63591747, 0.85761806,\n",
              "        0.47978359, 0.78493512, 0.87565277, 0.15443408, 0.02026649],\n",
              "       [0.46119063, 0.90117661, 0.24372218, 0.66718912, 0.45105224,\n",
              "        0.88773528, 0.73763244, 0.28855088, 0.7571567 , 0.55463213],\n",
              "       [0.03680761, 0.83005901, 0.80163768, 0.19760971, 0.49940625,\n",
              "        0.41184595, 0.07741659, 0.7047804 , 0.97914133, 0.64457037],\n",
              "       [0.17713805, 0.46607986, 0.65008112, 0.276914  , 0.9450583 ,\n",
              "        0.74683216, 0.10376606, 0.40681562, 0.45271398, 0.16254187],\n",
              "       [0.02267373, 0.48901047, 0.66730573, 0.05545362, 0.82709454,\n",
              "        0.30323281, 0.51585579, 0.53982955, 0.60874284, 0.58898999],\n",
              "       [0.33441464, 0.04366547, 0.72266199, 0.01737707, 0.38246168,\n",
              "        0.54872902, 0.08819981, 0.96595769, 0.13132577, 0.86006862],\n",
              "       [0.2176769 , 0.17790228, 0.38727006, 0.33409321, 0.25000889,\n",
              "        0.53751485, 0.81859228, 0.79243899, 0.88421955, 0.64582612],\n",
              "       [0.03414458, 0.32877145, 0.69004394, 0.568758  , 0.14304294,\n",
              "        0.42929116, 0.77551034, 0.92268461, 0.98666785, 0.96962233]])"
            ]
          },
          "metadata": {},
          "execution_count": 114
        }
      ]
    },
    {
      "cell_type": "code",
      "source": [
        "embeddings.shape"
      ],
      "metadata": {
        "colab": {
          "base_uri": "https://localhost:8080/"
        },
        "id": "w0cfwALfT-ra",
        "outputId": "bd47b548-3209-45c8-b515-267d918eaaf8"
      },
      "execution_count": 115,
      "outputs": [
        {
          "output_type": "execute_result",
          "data": {
            "text/plain": [
              "(43, 10)"
            ]
          },
          "metadata": {},
          "execution_count": 115
        }
      ]
    },
    {
      "cell_type": "code",
      "source": [
        "def linear(m, theta):\n",
        "    w = theta\n",
        "    return m.dot(w)"
      ],
      "metadata": {
        "id": "aijbguVIUC-e"
      },
      "execution_count": 116,
      "outputs": []
    },
    {
      "cell_type": "code",
      "source": [
        "def log_softmax(x):\n",
        "    e_x = np.exp(x - np.max(x))\n",
        "    return np.log(e_x / e_x.sum())"
      ],
      "metadata": {
        "id": "ebldYt2CUYRx"
      },
      "execution_count": 92,
      "outputs": []
    },
    {
      "cell_type": "code",
      "source": [
        "def NLLLoss(logs, targets):\n",
        "    out = logs[range(len(targets)), targets]\n",
        "    return -out.sum()/len(out)"
      ],
      "metadata": {
        "id": "PC9hGeHBUgbZ"
      },
      "execution_count": 117,
      "outputs": []
    },
    {
      "cell_type": "code",
      "source": [
        "def log_softmax_crossentropy_with_logits(logits,target):\n",
        "\n",
        "    out = np.zeros_like(logits)\n",
        "    out[np.arange(len(logits)),target] = 1\n",
        "\n",
        "    softmax = np.exp(logits) / np.exp(logits).sum(axis=-1,keepdims=True)\n",
        "\n",
        "    return (- out + softmax) / logits.shape[0]"
      ],
      "metadata": {
        "id": "uSazxpm2Vg0n"
      },
      "execution_count": 118,
      "outputs": []
    },
    {
      "cell_type": "code",
      "source": [
        "def forward(context_idxs, theta):\n",
        "    m = embeddings[context_idxs].reshape(1, -1)\n",
        "    n = linear(m, theta)\n",
        "    o = log_softmax(n)\n",
        "\n",
        "    return m, n, o"
      ],
      "metadata": {
        "id": "urfxfLUuW_JU"
      },
      "execution_count": 119,
      "outputs": []
    },
    {
      "cell_type": "code",
      "source": [
        "def backward(preds, theta, target_idxs):\n",
        "    m, n, o = preds\n",
        "\n",
        "    dlog = log_softmax_crossentropy_with_logits(n, target_idxs)\n",
        "    dw = m.T.dot(dlog)\n",
        "\n",
        "    return dw"
      ],
      "metadata": {
        "id": "aR1HGD-JXDqM"
      },
      "execution_count": 120,
      "outputs": []
    },
    {
      "cell_type": "code",
      "source": [
        "def optimize(theta, grad, lr=0.03):\n",
        "    theta -= grad * lr\n",
        "    return theta"
      ],
      "metadata": {
        "id": "1Qq_MtPLXG9j"
      },
      "execution_count": 121,
      "outputs": []
    },
    {
      "cell_type": "code",
      "source": [
        "theta = np.random.uniform(-1, 1, (2 * context_size * embed_dim, vocab_size))"
      ],
      "metadata": {
        "id": "l19rCSuKXKXU"
      },
      "execution_count": 122,
      "outputs": []
    },
    {
      "cell_type": "code",
      "source": [
        "theta"
      ],
      "metadata": {
        "colab": {
          "base_uri": "https://localhost:8080/"
        },
        "id": "KUvXRqgzXMP0",
        "outputId": "70ddd4ef-b29e-4b7f-c6dd-c1bc7e32eaa3"
      },
      "execution_count": 123,
      "outputs": [
        {
          "output_type": "execute_result",
          "data": {
            "text/plain": [
              "array([[ 0.22677886,  0.97765706,  0.78514917, ...,  0.03526527,\n",
              "        -0.92095592, -0.91036183],\n",
              "       [ 0.92447535,  0.05839718, -0.35923111, ..., -0.22630247,\n",
              "         0.10460217,  0.51310983],\n",
              "       [ 0.71111881, -0.04769929,  0.51773245, ..., -0.3052586 ,\n",
              "         0.83675259,  0.34621926],\n",
              "       ...,\n",
              "       [ 0.94493395, -0.58997002,  0.04109602, ...,  0.12423075,\n",
              "         0.52498502,  0.15612938],\n",
              "       [ 0.26545326, -0.53838806, -0.23866347, ...,  0.55367566,\n",
              "        -0.99767964,  0.33721488],\n",
              "       [ 0.27130874, -0.82934591, -0.11882212, ...,  0.54450162,\n",
              "        -0.05259757, -0.11846196]])"
            ]
          },
          "metadata": {},
          "execution_count": 123
        }
      ]
    },
    {
      "cell_type": "code",
      "source": [
        "\n",
        "theta.shape"
      ],
      "metadata": {
        "colab": {
          "base_uri": "https://localhost:8080/"
        },
        "id": "WyxycSdaXO28",
        "outputId": "398b4931-b3ee-4838-ecd1-00fd4397c834"
      },
      "execution_count": 124,
      "outputs": [
        {
          "output_type": "execute_result",
          "data": {
            "text/plain": [
              "(40, 43)"
            ]
          },
          "metadata": {},
          "execution_count": 124
        }
      ]
    },
    {
      "cell_type": "code",
      "source": [
        "epoch_losses = {}\n",
        "\n",
        "for epoch in range(80):\n",
        "\n",
        "    losses =  []\n",
        "\n",
        "    for context, target in data:\n",
        "        context_idxs = np.array([word_to_ix[w] for w in context])\n",
        "        preds = forward(context_idxs, theta)\n",
        "\n",
        "        target_idxs = np.array([word_to_ix[target]])\n",
        "        loss = NLLLoss(preds[-1], target_idxs)\n",
        "\n",
        "        losses.append(loss)\n",
        "\n",
        "        grad = backward(preds, theta, target_idxs)\n",
        "        theta = optimize(theta, grad, lr=0.03)\n",
        "\n",
        "\n",
        "    epoch_losses[epoch] = losses"
      ],
      "metadata": {
        "id": "KnY5RC9JXUtk"
      },
      "execution_count": 126,
      "outputs": []
    },
    {
      "cell_type": "code",
      "source": [
        "losses"
      ],
      "metadata": {
        "colab": {
          "base_uri": "https://localhost:8080/"
        },
        "id": "xepSxyyQXq_D",
        "outputId": "300d9798-c497-4e0f-b4d3-4cbaec19b8c3"
      },
      "execution_count": 127,
      "outputs": [
        {
          "output_type": "execute_result",
          "data": {
            "text/plain": [
              "[0.5051718478217866,\n",
              " 0.3431650713797721,\n",
              " 0.2880696826525402,\n",
              " 0.16311747690096626,\n",
              " 0.46605422431009075,\n",
              " 0.15886988284139772,\n",
              " 0.38954398045265365,\n",
              " 0.40330226155467636,\n",
              " 0.5761592679889195,\n",
              " 0.16721182655553557,\n",
              " 0.33338084595384304,\n",
              " 0.6134411588701378,\n",
              " 0.39299273884609326,\n",
              " 0.5504698386966137,\n",
              " 0.8276501084855051,\n",
              " 0.38265091380582295,\n",
              " 0.5061676570430538,\n",
              " 0.46107636651314293,\n",
              " 0.49503253474680936,\n",
              " 0.5319346818230865,\n",
              " 0.3755263280915286,\n",
              " 0.31532010308581643,\n",
              " 0.3060973946991242,\n",
              " 0.4286174983940451,\n",
              " 0.22254147046730366,\n",
              " 0.3181737902531576,\n",
              " 0.1857181412500681,\n",
              " 0.6072007576470669,\n",
              " 0.13998841228899975,\n",
              " 0.3516724240272538,\n",
              " 0.4550107890727566,\n",
              " 0.27083791520970363,\n",
              " 0.26962436667986966,\n",
              " 0.4316921288573981,\n",
              " 0.30981970092969974,\n",
              " 0.3455219154739109,\n",
              " 0.28947485689738206,\n",
              " 0.490013636434695,\n",
              " 0.34921213348012276,\n",
              " 0.3749388879172353,\n",
              " 0.3562152435600424,\n",
              " 0.2798110664600371,\n",
              " 0.35445258771897065,\n",
              " 0.4440764155276112,\n",
              " 0.5575648074784004,\n",
              " 0.6888319338700631,\n",
              " 0.5995051865744752,\n",
              " 0.5630308291910037,\n",
              " 0.31949292754956593,\n",
              " 0.8867403777384818,\n",
              " 0.1673465252269014,\n",
              " 0.35492908356735053,\n",
              " 0.3485929583012351,\n",
              " 0.3681114197004326]"
            ]
          },
          "metadata": {},
          "execution_count": 127
        }
      ]
    },
    {
      "cell_type": "code",
      "source": [
        "ix = np.arange(0,80)\n",
        "\n",
        "fig = plt.figure()\n",
        "fig.suptitle('Epoch/Losses', fontsize=20)\n",
        "plt.plot(ix,[epoch_losses[i][0] for i in ix])\n",
        "plt.xlabel('Epochs', fontsize=12)\n",
        "plt.ylabel('Losses', fontsize=12)"
      ],
      "metadata": {
        "colab": {
          "base_uri": "https://localhost:8080/",
          "height": 519
        },
        "id": "9YXrzShRYz9Z",
        "outputId": "883cd95e-73ae-4ea7-ea4d-6e8f35acb133"
      },
      "execution_count": 128,
      "outputs": [
        {
          "output_type": "execute_result",
          "data": {
            "text/plain": [
              "Text(0, 0.5, 'Losses')"
            ]
          },
          "metadata": {},
          "execution_count": 128
        },
        {
          "output_type": "display_data",
          "data": {
            "text/plain": [
              "<Figure size 640x480 with 1 Axes>"
            ],
            "image/png": "[encoded data removed]"
          },
          "metadata": {}
        }
      ]
    },
    {
      "cell_type": "code",
      "source": [
        "def predict(words):\n",
        "    context_idxs = np.array([word_to_ix[w] for w in words])\n",
        "    preds = forward(context_idxs, theta)\n",
        "    word = ix_to_word[np.argmax(preds[-1])]\n",
        "\n",
        "    return word"
      ],
      "metadata": {
        "id": "9wMUefOAZDW1"
      },
      "execution_count": 129,
      "outputs": []
    },
    {
      "cell_type": "code",
      "source": [
        "predict(['we', 'are', 'to', 'study'])"
      ],
      "metadata": {
        "colab": {
          "base_uri": "https://localhost:8080/",
          "height": 36
        },
        "id": "f53newstZEB8",
        "outputId": "09143670-7d8e-4e17-d83d-55a719b95c92"
      },
      "execution_count": 130,
      "outputs": [
        {
          "output_type": "execute_result",
          "data": {
            "text/plain": [
              "'about'"
            ],
            "application/vnd.google.colaboratory.intrinsic+json": {
              "type": "string"
            }
          },
          "metadata": {},
          "execution_count": 130
        }
      ]
    },
    {
      "cell_type": "code",
      "source": [
        "def accuracy():\n",
        "    wrong = 0\n",
        "\n",
        "    for context, target in data:\n",
        "        if(predict(context) != target):\n",
        "            wrong += 1\n",
        "\n",
        "    return (1 - (wrong / len(data)))"
      ],
      "metadata": {
        "id": "LbzvXt_ZZHQs"
      },
      "execution_count": 131,
      "outputs": []
    },
    {
      "cell_type": "code",
      "source": [
        "accuracy()"
      ],
      "metadata": {
        "colab": {
          "base_uri": "https://localhost:8080/"
        },
        "id": "zJnckpfaZJ5U",
        "outputId": "cea82a25-b82c-4fac-df97-fdbbfd314122"
      },
      "execution_count": 132,
      "outputs": [
        {
          "output_type": "execute_result",
          "data": {
            "text/plain": [
              "1.0"
            ]
          },
          "metadata": {},
          "execution_count": 132
        }
      ]
    },
    {
      "cell_type": "code",
      "source": [],
      "metadata": {
        "id": "1zL2ihT4a_xN"
      },
      "execution_count": null,
      "outputs": []
    }
  ]
}